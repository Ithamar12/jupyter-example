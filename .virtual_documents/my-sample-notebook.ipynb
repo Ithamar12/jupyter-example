name = "TC"


print("hello world")



