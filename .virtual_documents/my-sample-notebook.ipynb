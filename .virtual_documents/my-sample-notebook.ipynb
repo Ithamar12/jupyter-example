import numpy as np
import pandas as pd
import matplotlib.pyplot as plt
import seaborn as sns
import missingno as msno
from sklearn.preprocessing import StandardScaler
from sklearn.preprocessing import MinMaxScaler#
from scipy.stats import pearsonr

#from google.colab import drive
import math
#drive.mount('/content/drive')

from pandas.plotting import table


print("hello world")


file_path = 'review_230k.parquet'  # הכנס כאן את הנתיב הנכון של הקובץ


df = pd.read_parquet(file_path)


print(df.head())




