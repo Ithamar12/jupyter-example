{
 "cells": [
  {
   "cell_type": "code",
   "execution_count": 1,
   "id": "c33ebc70-664a-41db-a7e9-d4973fa5b826",
   "metadata": {},
   "outputs": [],
   "source": [
    "name = \"TC\""
   ]
  },
  {
   "cell_type": "code",
   "execution_count": 2,
   "id": "43a499ed-2a2d-44cd-9c7e-5abfa3a1a68d",
   "metadata": {},
   "outputs": [
    {
     "name": "stdout",
     "output_type": "stream",
     "text": [
      "hello word\n"
     ]
    }
   ],
   "source": [
    "print(\"hello word\")"
   ]
  },
  {
   "cell_type": "code",
   "execution_count": null,
   "id": "a1bf52a7-d2da-4425-8036-4e77ee9ece40",
   "metadata": {},
   "outputs": [],
   "source": []
  }
 ],
 "metadata": {
  "kernelspec": {
   "display_name": "Python 3 (ipykernel)",
   "language": "python",
   "name": "python3"
  },
  "language_info": {
   "codemirror_mode": {
    "name": "ipython",
    "version": 3
   },
   "file_extension": ".py",
   "mimetype": "text/x-python",
   "name": "python",
   "nbconvert_exporter": "python",
   "pygments_lexer": "ipython3",
   "version": "3.10.12"
  }
 },
 "nbformat": 4,
 "nbformat_minor": 5
}
