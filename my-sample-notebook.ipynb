{
 "cells": [
  {
   "cell_type": "code",
   "execution_count": 4,
   "id": "c33ebc70-664a-41db-a7e9-d4973fa5b826",
   "metadata": {},
   "outputs": [],
   "source": [
    "import numpy as np\n",
    "import pandas as pd\n",
    "import matplotlib.pyplot as plt\n",
    "import seaborn as sns\n",
    "import missingno as msno\n",
    "from sklearn.preprocessing import StandardScaler\n",
    "from sklearn.preprocessing import MinMaxScaler#\n",
    "from scipy.stats import pearsonr\n",
    "\n",
    "#from google.colab import drive\n",
    "import math\n",
    "#drive.mount('/content/drive')\n",
    "\n",
    "from pandas.plotting import table"
   ]
  },
  {
   "cell_type": "code",
   "execution_count": 5,
   "id": "43a499ed-2a2d-44cd-9c7e-5abfa3a1a68d",
   "metadata": {},
   "outputs": [
    {
     "name": "stdout",
     "output_type": "stream",
     "text": [
      "hello world\n"
     ]
    }
   ],
   "source": [
    "print(\"hello world\")"
   ]
  },
  {
   "cell_type": "code",
   "execution_count": 8,
   "id": "a1bf52a7-d2da-4425-8036-4e77ee9ece40",
   "metadata": {},
   "outputs": [],
   "source": [
    "file_path = 'review_230k.parquet'  # הכנס כאן את הנתיב הנכון של הקובץ"
   ]
  },
  {
   "cell_type": "code",
   "execution_count": 9,
   "id": "2c8255d9-9c1d-4740-b2f9-3e8057d32bba",
   "metadata": {},
   "outputs": [],
   "source": [
    "df = pd.read_parquet(file_path)"
   ]
  },
  {
   "cell_type": "code",
   "execution_count": 10,
   "id": "4afa8c4f-d19c-4121-bbea-8389e7d9ef5e",
   "metadata": {},
   "outputs": [
    {
     "name": "stdout",
     "output_type": "stream",
     "text": [
      "                                           title  \\\n",
      "0        Truly is \"Jewel of the Upper Wets Side\"   \n",
      "1                        My home away from home!   \n",
      "2                                     Great Stay   \n",
      "3                             Modern Convenience   \n",
      "4  Its the best of the Andaz Brand in the US....   \n",
      "\n",
      "                                                text  \n",
      "0  Stayed in a king suite for 11 nights and yes i...  \n",
      "1  On every visit to NYC, the Hotel Beacon is the...  \n",
      "2  This is a great property in Midtown. We two di...  \n",
      "3  The Andaz is a nice hotel in a central locatio...  \n",
      "4  I have stayed at each of the US Andaz properti...  \n"
     ]
    }
   ],
   "source": [
    "print(df.head())\n"
   ]
  },
  {
   "cell_type": "code",
   "execution_count": null,
   "id": "f8d7cd6d-e5c7-452b-81b3-cdb22687e9ce",
   "metadata": {},
   "outputs": [],
   "source": []
  }
 ],
 "metadata": {
  "kernelspec": {
   "display_name": "Python 3 (ipykernel)",
   "language": "python",
   "name": "python3"
  },
  "language_info": {
   "codemirror_mode": {
    "name": "ipython",
    "version": 3
   },
   "file_extension": ".py",
   "mimetype": "text/x-python",
   "name": "python",
   "nbconvert_exporter": "python",
   "pygments_lexer": "ipython3",
   "version": "3.10.12"
  }
 },
 "nbformat": 4,
 "nbformat_minor": 5
}
